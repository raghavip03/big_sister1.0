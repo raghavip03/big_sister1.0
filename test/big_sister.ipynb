{
 "cells": [
  {
   "cell_type": "code",
   "execution_count": 18,
   "metadata": {},
   "outputs": [],
   "source": [
    "from dotenv import load_dotenv\n",
    "import os\n",
    "from langchain_openai.chat_models import ChatOpenAI\n",
    "from langchain_community.llms import Ollama\n",
    "from langchain.prompts import PromptTemplate\n",
    "from langchain_core.output_parsers import StrOutputParser\n",
    "from langchain.text_splitter import RecursiveCharacterTextSplitter\n",
    "from langchain_community.document_loaders import TextLoader\n",
    "from langchain_openai.embeddings import OpenAIEmbeddings\n",
    "from langchain_community.vectorstores import FAISS\n",
    "from langchain_core.runnables import RunnablePassthrough, RunnableParallel\n"
   ]
  },
  {
   "cell_type": "code",
   "execution_count": 19,
   "metadata": {},
   "outputs": [],
   "source": [
    "# setting up llama\n",
    "ollama_llm = Ollama(model = 'llama3')"
   ]
  },
  {
   "cell_type": "code",
   "execution_count": 4,
   "metadata": {},
   "outputs": [],
   "source": [
    "load_dotenv()\n",
    "API_KEY = os.getenv('OPENAI_API_KEY')\n",
    "Model = 'gpt-3.5-turbo'\n",
    "gpt_llm = ChatOpenAI(api_key = API_KEY,model= Model)"
   ]
  },
  {
   "cell_type": "code",
   "execution_count": 5,
   "metadata": {},
   "outputs": [
    {
     "data": {
      "text/plain": [
       "AIMessage(content='A bot, short for robot, is a software program that performs automated tasks on the internet. Bots can be programmed to perform a wide range of functions, such as answering questions, providing customer service, collecting data, and more. Bots can be used for both helpful and malicious purposes, depending on how they are programmed.', response_metadata={'token_usage': {'completion_tokens': 66, 'prompt_tokens': 11, 'total_tokens': 77}, 'model_name': 'gpt-3.5-turbo-0125', 'system_fingerprint': None, 'finish_reason': 'stop', 'logprobs': None}, id='run-61009fc6-2fb3-4a68-9693-695307edd863-0', usage_metadata={'input_tokens': 11, 'output_tokens': 66, 'total_tokens': 77})"
      ]
     },
     "execution_count": 5,
     "metadata": {},
     "output_type": "execute_result"
    }
   ],
   "source": [
    "\n",
    "gpt_llm.invoke('what is a bot')"
   ]
  },
  {
   "cell_type": "code",
   "execution_count": 6,
   "metadata": {},
   "outputs": [
    {
     "data": {
      "text/plain": [
       "'A bot, short for robot, is a computer program that performs automated tasks on the internet. Bots can be programmed to perform a wide range of functions, such as answering customer service inquiries, collecting data, or interacting with users on social media platforms. Some bots are designed to mimic human behavior, while others simply carry out simple tasks without any human-like interactions.'"
      ]
     },
     "execution_count": 6,
     "metadata": {},
     "output_type": "execute_result"
    }
   ],
   "source": [
    "# returns only the content instead of the whole json output\n",
    "parser = StrOutputParser()\n",
    "gpt_chain = gpt_llm|parser\n",
    "gpt_chain.invoke('what is a bot')"
   ]
  },
  {
   "cell_type": "code",
   "execution_count": 7,
   "metadata": {},
   "outputs": [],
   "source": [
    "#loads data and breaks into pages\n",
    "loader = TextLoader('data.txt', encoding='utf-8')\n",
    "document = loader.load()"
   ]
  },
  {
   "cell_type": "code",
   "execution_count": 8,
   "metadata": {},
   "outputs": [
    {
     "data": {
      "text/plain": [
       "[Document(metadata={'source': 'data.txt'}, page_content=\"If you are the spouse or minor child of an H-1B visa holder, you are eligible to travel to the U.S. with your spouse or parent on an H-4 visa. If you want to pursue your education while you are in the U.S. at a university or college during your stay, you will have a few options, including studying on your H-4 visa or choosing to study on an F-1 visa. There are advantages and disadvantages to both options, making it important for you to understand the differences so that you can make the decision that makes the most sense for your situation and plans.\\n\\nWhat is an H-4 visa?\\nAn H-4 visa is a dependent visa that is available to the spouses and minor unmarried children who are younger than 21 of H-1B visa holders. The H-1B visa is a nonimmigrant visa that is dual intent. It allows the visa holder to live and work for a sponsoring employer for up to three years and is renewable. If the H-1B visa holder renews the H-1B visa, he or she can work for an additional three years for his or her sponsoring employer. After working in the U.S. for six years on an H-1B visa, the visa holder will be eligible to petition to change his or her status to a green card.\\n\\nH-4 visa holders have some restrictions. They are generally not allowed to work unless their spouses meet specific eligibility criteria. H-4 visa holders are allowed to study in the U.S. during their stays, however. Many H-4 visa recipients choose to study in the U.S. to further their educations while their spouses or parents work with their H-1B visa statuses. However, studying in the U.S. on an H-4 visa is not the only option available to dependents of H-1B visa holders.\\n\\nMOVED TO THE U.S. FROM AUSTRALIA, KENYA, OR THE PHILIPPINES?\\nStart your U.S. credit building journey on the right foot\\nA strong credit score helps you access a lot in the U.S., and a credit card is an easy way to start building your U.S. credit score. Access your free international credit score, and see which U.S. credit cards could be right for you.\\n\\n\\nSelect your country\\nGet Started\\nOptions to study in the U.S. as a nonimmigrant\\nYou will have three primary options for pursuing your degree at a college or university in the U.S. You can choose an F-1 visa to pursue your studies, study with your H-4 visa, or study with an H-4 visa and an F-1 visa. The option that will be right for you will depend on your situation. You will want to consider your current visa status, your financial situation, and the career goals that you have for your future. We will explore each option in-depth to provide you with more information.\\n\\nWhat is an F-1 visa?\\nThe F-1 visa program is designed to allow eligible international students to study in the U.S. at approved colleges and universities. The schools must be certified by the Student Exchange Visitor Program or SEVP. The SEVP is responsible for managing F-1 students and approved educational institutions on behalf of the U.S. Department of Homeland Security.\\n\\nTo secure an F-1 visa, you must first apply to a SEVP-approved school, be admitted, and enroll. Once you are accepted, the designated school official or DSO at the school will enter your information in the Student and Exchange Visitor Information System or SEVIS and issue a Form I-20 to you. You will need to pay the SEVIS I-901 fee. The SEVIS fee for F-1 students is currently $350 and is separate from the visa application fee.\\n\\nAfter you receive the Form I-20 from your school, you will need to complete the Form DS-160 online. Once you complete it, you will need to print out the confirmation page and save it because it contains a bar code that you will need. You must also pay the visa processing application fee of $160. Next, you will need to schedule a visa interview at the U.S. embassy or consulate in your home country. When you attend your interview, you will need to bring your passport, Form I-20, your confirmation page, and your receipts for the fees. You should also bring supporting documentation that demonstrates your intent to return to your home country after your studies are completed and proof that you will be financially able to support yourself while you are in the U.S. If the embassy or consular official approves you, the F-1 visa will be stamped in your passport. You will then be able to enter the U.S. up to 30 days before the start date of your academic program.\\n\\nApplying for the H-4 visa\\nTo be eligible for an H-4 visa, you must be the spouse or dependent child of an H-visa holder, including the H-1B, H-1B1, H-2A, H-2B, or H-3 visa. You will need to complete the Form DS-160 online, pay the visa application processing fee of $190, and print out the confirmation page with the barcode. You will then need to schedule a visa interview with the U.S. consulate or embassy in your home country. You will need to bring several documents with you to your visa interview, including the following:\\n\\nConfirmation page from the DS-160 application form\\n\\nValid passport\\n\\nTwo U.S.-approved passport photos\\n\\nReceipt for the payment of the application fee\\n\\nPhotocopy of your spouse or parent's H visa\\n\\nPhotocopy of your spouse's or parent's Form I-129, Form I-797, and the labor certification application\\n\\nPhotocopy of your spouse's or parent's passport containing a photo\\n\\nThe letter of employment for your spouse or parent\\n\\nPhotocopies of your spouse's or parent's prior work experience\\n\\nIf your spouse or parent is already working in the U.S., photocopies of his or her tax filing information and recent paystubs\\n\\nYour original birth certificate if you are the dependent child of the H visa holder\\n\\nMarriage certificate if you are the spouse of the H visa holder\\n\\nIf you are the spouse of the H visa holder, you should bring additional documents proving your valid relationship. These might include wedding pictures, a guest list, receipts for wedding and honeymoon expenses, and a copy of your wedding invitation.\\n\\nAt your interview, the embassy or consular official will review your documents and ask questions to determine that your relationship with your spouse is real. If you are approved for the H-4 visa, you will be notified. The H-4 visa will be stamped in your passport, allowing you to travel to the U.S. to join your spouse or parent. The processing time will vary if you apply separately from your spouse or parent. If you apply at the same time as your spouse or parent, your visas will be processed together.\\n\\nAdvantages of studying in the U.S. with an H-4 visa\\nMany H-4 visa holders wish to study in the U.S. Some are not eligible for employment authorization documents and wish to pursue their educations to reach their goals instead of staying at home. Many H-4 visa holders who are married to H-1B visa holders are educated professionals who would like to pursue post-graduate studies to obtain a Master's degree or Ph.D.\\n\\nWhether you want to pursue a Bachelor's degree or a postgraduate degree while you are in the U.S. as an H-4 dependent, you are allowed to apply and enroll if you are admitted. You might also be eligible for in-state tuition, depending on the state in which you live.\\n\\nEligiblity for in-state tuition for H-4 visa holders\\nMany states offer in-state tuition to H-4 visa holders who choose to study while they are living in the U.S. Your eligibility for in-state tuition will depend on your school and your state, however. While in-state tuition is available at most public universities and colleges, it is not available at private institutions.\\n\\nIn-state tuition is substantially cheaper than regular tuition rates for international students. In some cases, it might be one-half of the cost. To qualify for in-state tuition, you must be married to the H-1B visa holder and have been dependent on him or her for a minimum of one year. You and the H-1B visa holder must have lived in the state where the school is located for a year or more and have proof of your residency. Finally, the H-1B visa holder will also have had to pay state taxes.\\n\\nTo prepare to be eligible for in-state tuition as an H-4 visa holder, you should apply for a driver's license soon after you arrive in the U.S. Register your car and get a registration plate. When you and your spouse rent a home, make certain that the lease is in your spouse's name as the H-1B visa holder. Open a bank account in your state, and make sure that you and your spouse file your income tax return at the end of the tax year. If you do these things, you should be able to establish your residency in the state to qualify for in-state tuition. You might want to check with the school that you plan to attend to learn about any specific rules that it might have.\\n\\nIf you can meet the requirements for in-state tuition, the largest advantage of studying in the U.S. with an H-4 visa is the savings that you can enjoy on your tuition costs. You will be able to study full-time without having to work as long as your spouse is willing to pay for your school. If you complete a Master's degree program, you can then apply for an H-1B visa under the Master's program category.\\n\\nThe H-1B visa program has an annual cap on the number of visas that are issued each year. If you have your Master's degree, there are 20,000 additional visas available for people with advanced degrees. If you can find an H-1B employer to sponsor you, you might be able to secure an H-1B visa to work in the U.S. by taking advantage of the additional number of H-1B visas that are available to people with Master's degrees.\")]"
      ]
     },
     "execution_count": 8,
     "metadata": {},
     "output_type": "execute_result"
    }
   ],
   "source": [
    "document"
   ]
  },
  {
   "cell_type": "code",
   "execution_count": 9,
   "metadata": {},
   "outputs": [
    {
     "data": {
      "text/plain": [
       "Document(metadata={'source': 'data.txt'}, page_content='so that you can make the decision that makes the most sense for your situation and plans.')"
      ]
     },
     "execution_count": 9,
     "metadata": {},
     "output_type": "execute_result"
    }
   ],
   "source": [
    "# split data into smaller chunks\n",
    "spliter = RecursiveCharacterTextSplitter(chunk_size = 200, chunk_overlap = 50)\n",
    "chunks = spliter.split_documents(document)\n",
    "chunks[3]"
   ]
  },
  {
   "cell_type": "code",
   "execution_count": 10,
   "metadata": {},
   "outputs": [],
   "source": [
    "# convert the chunks of information into numerical info (embeddings)\n",
    "# and storing it in a vector storage FAISS\n",
    "vector_storage = FAISS.from_documents(chunks, OpenAIEmbeddings())\n",
    "retriever = vector_storage.as_retriever()"
   ]
  },
  {
   "cell_type": "code",
   "execution_count": 11,
   "metadata": {},
   "outputs": [
    {
     "data": {
      "text/plain": [
       "[Document(metadata={'source': 'data.txt'}, page_content='What is an H-4 visa?'),\n",
       " Document(metadata={'source': 'data.txt'}, page_content='Applying for the H-4 visa'),\n",
       " Document(metadata={'source': 'data.txt'}, page_content='An H-4 visa is a dependent visa that is available to the spouses and minor unmarried children who are younger than 21 of H-1B visa holders. The H-1B visa is a nonimmigrant visa that is dual intent.'),\n",
       " Document(metadata={'source': 'data.txt'}, page_content='What is an F-1 visa?')]"
      ]
     },
     "execution_count": 11,
     "metadata": {},
     "output_type": "execute_result"
    }
   ],
   "source": [
    "# retrieves the first 4 similar data chunks with information relating to\n",
    "# the question we invoked\n",
    "retriever.invoke('What is an H-4 visa?') #[2]"
   ]
  },
  {
   "cell_type": "code",
   "execution_count": 12,
   "metadata": {},
   "outputs": [],
   "source": [
    "# creating a template that provides the bot with\n",
    "# instructions on how to answer questions using the\n",
    "# context (our data) given and the question asked by\n",
    "# the user\n",
    "template = (\"\"\"\n",
    "You are AI-powered chatbot designed to provide\n",
    "information and assistance for high school students\n",
    "planning on going to college based on the context provided to you only.\n",
    "\n",
    "Context:{context}\n",
    "Question:{question}\n",
    "\"\"\")\n"
   ]
  },
  {
   "cell_type": "code",
   "execution_count": 13,
   "metadata": {},
   "outputs": [
    {
     "data": {
      "text/plain": [
       "'\\nYou are AI-powered chatbot designed to provide\\ninformation and assistance for high school students \\nplanning on going to college based on the context provided to you only.\\n\\nContext: Here is a context to use  \\nQuestion:This is a question to answer\\n'"
      ]
     },
     "execution_count": 13,
     "metadata": {},
     "output_type": "execute_result"
    }
   ],
   "source": [
    "prompt = PromptTemplate.from_template(template=template)\n",
    "prompt.format(\n",
    "  context = ' Here is a context to use ',\n",
    "  question = 'This is a question to answer'\n",
    ")"
   ]
  },
  {
   "cell_type": "code",
   "execution_count": 14,
   "metadata": {},
   "outputs": [],
   "source": [
    "# this ensures that the chatbot takes in the context (out data) and uses\n",
    "# RunnablePassThrough to run it through our vector store and our LLM (gpt-3.5-turbo)\n",
    "# RunnableParallel allows this to happen in parallel\n",
    "result = RunnableParallel(context = retriever, question = RunnablePassthrough())\n",
    "\n",
    "# chains the result containing information from our vector store and\n",
    "# the LLM and our promptTemplate\n",
    "# the parser ensure we only recieve string outputs\n",
    "chain = result | prompt | gpt_llm | parser"
   ]
  },
  {
   "cell_type": "code",
   "execution_count": 15,
   "metadata": {},
   "outputs": [
    {
     "data": {
      "text/plain": [
       "'An F-1 visa is a type of visa program designed to allow eligible international students to study in the U.S. at approved colleges and universities. The schools must be certified by the Student Exchange Visitor Program (SEVP).'"
      ]
     },
     "execution_count": 15,
     "metadata": {},
     "output_type": "execute_result"
    }
   ],
   "source": [
    "chain.invoke('What is an F-1 visa')"
   ]
  },
  {
   "cell_type": "code",
   "execution_count": 16,
   "metadata": {},
   "outputs": [
    {
     "data": {
      "text/plain": [
       "'No, typically students on an F-1 visa are not eligible for in-state tuition. In-state tuition is usually reserved for residents of the state or individuals with certain visa statuses, such as H-4 visa holders in some states.'"
      ]
     },
     "execution_count": 16,
     "metadata": {},
     "output_type": "execute_result"
    }
   ],
   "source": [
    "chain.invoke('Is a student on F-1 visa eligible for in-state tuiton')"
   ]
  },
  {
   "cell_type": "code",
   "execution_count": 20,
   "metadata": {},
   "outputs": [
    {
     "data": {
      "text/plain": [
       "'Running Start is a program in the United States that allows high school students to take college-level courses for both high school and college credit. This program can help students get a head start on their college education and potentially save money on tuition costs.'"
      ]
     },
     "execution_count": 20,
     "metadata": {},
     "output_type": "execute_result"
    }
   ],
   "source": [
    "chain.invoke('What is Running Start')"
   ]
  }
 ],
 "metadata": {
  "kernelspec": {
   "display_name": "Python 3",
   "language": "python",
   "name": "python3"
  },
  "language_info": {
   "codemirror_mode": {
    "name": "ipython",
    "version": 3
   },
   "file_extension": ".py",
   "mimetype": "text/x-python",
   "name": "python",
   "nbconvert_exporter": "python",
   "pygments_lexer": "ipython3",
   "version": "3.12.2"
  }
 },
 "nbformat": 4,
 "nbformat_minor": 2
}
